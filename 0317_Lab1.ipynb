{
  "nbformat": 4,
  "nbformat_minor": 0,
  "metadata": {
    "kernelspec": {
      "name": "python3",
      "display_name": "Python 3"
    },
    "colab": {
      "name": "0317_Lab1.ipynb",
      "provenance": [],
      "include_colab_link": true
    },
    "accelerator": "TPU"
  },
  "cells": [
    {
      "cell_type": "markdown",
      "metadata": {
        "id": "view-in-github",
        "colab_type": "text"
      },
      "source": [
        "<a href=\"https://colab.research.google.com/github/ryeowook6021/ai/blob/main/0317_Lab1.ipynb\" target=\"_parent\"><img src=\"https://colab.research.google.com/assets/colab-badge.svg\" alt=\"Open In Colab\"/></a>"
      ]
    },
    {
      "cell_type": "markdown",
      "metadata": {
        "id": "jJG1hTedDSfA"
      },
      "source": [
        "#陳品蓁TensorFlow 2.0 測試\r\n",
        "\r\n",
        "\r\n"
      ]
    },
    {
      "cell_type": "markdown",
      "metadata": {
        "id": "45LZQhDkDSfF"
      },
      "source": [
        "<table class=\"tfo-notebook-buttons\" align=\"left\">\n",
        "  <td>\n",
        "    <a target=\"_blank\" href=\"https://colab.research.google.com/github/taipeitechmmslab/MMSLAB-TF2/blob/master/Lab1.ipynb\"><img src=\"https://www.tensorflow.org/images/colab_logo_32px.png\" />Run in Google Colab</a>\n",
        "  </td>\n",
        "  <td>\n",
        "    <a target=\"_blank\" href=\"https://github.com/taipeitechmmslab/MMSLAB-TF2/blob/master/Lab1.ipynb\"><img src=\"https://www.tensorflow.org/images/GitHub-Mark-32px.png\" />View source on GitHub</a>\n",
        "  </td>\n",
        "</table>"
      ]
    },
    {
      "cell_type": "code",
      "metadata": {
        "id": "Xm0u7BccDSfG"
      },
      "source": [
        "import tensorflow as tf"
      ],
      "execution_count": 50,
      "outputs": []
    },
    {
      "cell_type": "markdown",
      "metadata": {
        "id": "CPs6LfkmDSfG"
      },
      "source": [
        "TensorFlow 的基本型態："
      ]
    },
    {
      "cell_type": "code",
      "metadata": {
        "scrolled": true,
        "id": "9PsoMuZ7DSfH",
        "colab": {
          "base_uri": "https://localhost:8080/"
        },
        "outputId": "0ff447d4-2ec9-4b20-d552-a4aa97ec8495"
      },
      "source": [
        "# 產生一個常數\n",
        "c = tf.constant(1)\n",
        "# 產生一個變數\n",
        "v = tf.Variable(1)\n",
        "print(c)\n",
        "print(v)"
      ],
      "execution_count": 51,
      "outputs": [
        {
          "output_type": "stream",
          "text": [
            "tf.Tensor(1, shape=(), dtype=int32)\n",
            "<tf.Variable 'Variable:0' shape=() dtype=int32, numpy=1>\n"
          ],
          "name": "stdout"
        }
      ]
    },
    {
      "cell_type": "markdown",
      "metadata": {
        "id": "6v06aHudDSfI"
      },
      "source": [
        "零階張量稱為標量。"
      ]
    },
    {
      "cell_type": "code",
      "metadata": {
        "id": "9OuK1qMvDSfJ",
        "colab": {
          "base_uri": "https://localhost:8080/"
        },
        "outputId": "47ac6e6c-8e9b-4c2f-f31d-e48532ab42ca"
      },
      "source": [
        "import tensorflow as tf\n",
        "x = tf.constant(4)\n",
        "print(x)  # 顯示Tensor 常數資訊，Shape=()表示標量，dtype=int32 表示整數\n",
        "print(\"{} 階Tensor\".format(x.ndim))  # 顯示Tensor 的維度"
      ],
      "execution_count": 52,
      "outputs": [
        {
          "output_type": "stream",
          "text": [
            "tf.Tensor(4, shape=(), dtype=int32)\n",
            "0 階Tensor\n"
          ],
          "name": "stdout"
        }
      ]
    },
    {
      "cell_type": "markdown",
      "metadata": {
        "id": "WYGVlzeyDSfJ"
      },
      "source": [
        "一階張量稱為向量。"
      ]
    },
    {
      "cell_type": "code",
      "metadata": {
        "id": "CixorNikDSfJ",
        "colab": {
          "base_uri": "https://localhost:8080/"
        },
        "outputId": "5d196984-5cbc-4654-bac4-cd6e88df25f2"
      },
      "source": [
        "x = tf.constant([1, 2, 3, 4, 5, 6]) \n",
        "print(\"{}階Tensor \".format(x.ndim))    # 顯示Tensor的維度"
      ],
      "execution_count": 5,
      "outputs": [
        {
          "output_type": "stream",
          "text": [
            "1階Tensor \n"
          ],
          "name": "stdout"
        }
      ]
    },
    {
      "cell_type": "markdown",
      "metadata": {
        "id": "EQP4cCfxDSfK"
      },
      "source": [
        "二階張量稱為矩陣。"
      ]
    },
    {
      "cell_type": "code",
      "metadata": {
        "id": "6RgKW3nZDSfK",
        "colab": {
          "base_uri": "https://localhost:8080/"
        },
        "outputId": "69095fd7-3e0f-4cca-e202-b8779806004f"
      },
      "source": [
        "x = tf.constant([[1, 2, 3], [4, 5, 6]])\n",
        "print(\"{}階Tensor \".format(x.ndim))    # 顯示Tensor的維度"
      ],
      "execution_count": 6,
      "outputs": [
        {
          "output_type": "stream",
          "text": [
            "2階Tensor \n"
          ],
          "name": "stdout"
        }
      ]
    },
    {
      "cell_type": "markdown",
      "metadata": {
        "id": "NmHRaJkcDSfL"
      },
      "source": [
        "---\n",
        "## Eager Execution\n",
        "\n",
        "\n",
        "TensorFlow 引入了「Eager Execution」動態圖模式，這個模式在TensorFlow2.0為預設模式，不同與以往的靜態圖模式需要建立計算圖才能執行，Eager Execution模式一旦執行就會返回數值。這使TensorFlow 更容易入門，也使研發更直觀。\n",
        "\n",
        "**Eager Execution 的優點如下：**\n",
        "\n",
        "- 立即返回數值，方便除錯。\n",
        "- 無需 Session.run() 就可以把它們的值返回到 Python。\n",
        "- 為自定義和高階梯度提供強大支援。\n",
        "- 幾乎所有 TensorFlow 運算都適用。\n",
        "\n",
        "\n",
        "**TensorFlow 1.x 和 TensorFlow2.0比較：**\n",
        "```\n",
        "TensorFlow 1.x code:\n",
        ">>> a = tf.constant(1)\n",
        ">>> print(a)\n",
        "Tensor(\"Const_5:0\", shape=(), dtype=int32)\n",
        "\n",
        ">>> sess = tf.Session()\n",
        ">>> print(\"a = {}\".format(sess.run(a)))\n",
        "a = 1\n",
        "\n",
        "\n",
        "TensorFlow 2.0 code:\n",
        ">>> a = tf.constant(1)\n",
        ">>> print(a)\n",
        "tf.Tensor(1, shape=(), dtype=int32)\n",
        "```"
      ]
    },
    {
      "cell_type": "markdown",
      "metadata": {
        "id": "hjNW_mcnDSfL"
      },
      "source": [
        "**TensorFlow 基本運算：**\n",
        "\n",
        "Import 必要套件"
      ]
    },
    {
      "cell_type": "code",
      "metadata": {
        "id": "Tf5_DCvHDSfL",
        "colab": {
          "base_uri": "https://localhost:8080/"
        },
        "outputId": "c48c9f90-ca71-42e5-d5c9-269b3a7f576c"
      },
      "source": [
        "import numpy as np\n",
        "import tensorflow as tf\n",
        "\n",
        "print(\"Eager Execution 是否啟動: {}\".format(tf.executing_eagerly()))"
      ],
      "execution_count": 7,
      "outputs": [
        {
          "output_type": "stream",
          "text": [
            "Eager Execution 是否啟動: True\n"
          ],
          "name": "stdout"
        }
      ]
    },
    {
      "cell_type": "markdown",
      "metadata": {
        "id": "NemKUF7hDSfM"
      },
      "source": [
        "定義常數 Tensor"
      ]
    },
    {
      "cell_type": "code",
      "metadata": {
        "id": "szaURqIyDSfM",
        "colab": {
          "base_uri": "https://localhost:8080/"
        },
        "outputId": "b4c80359-5cb3-4db5-bedf-96fb307e271e"
      },
      "source": [
        "a = tf.constant(3)\n",
        "b = tf.constant(4)\n",
        "print(\"a = {}\".format(a))\n",
        "print(\"b = {}\".format(b))"
      ],
      "execution_count": 8,
      "outputs": [
        {
          "output_type": "stream",
          "text": [
            "a = 3\n",
            "b = 4\n"
          ],
          "name": "stdout"
        }
      ]
    },
    {
      "cell_type": "markdown",
      "metadata": {
        "id": "GErLivbhDSfM"
      },
      "source": [
        "檢查資料型態"
      ]
    },
    {
      "cell_type": "code",
      "metadata": {
        "id": "QDhaW_6cDSfM",
        "colab": {
          "base_uri": "https://localhost:8080/"
        },
        "outputId": "849faf99-f588-4bff-9cd4-7f152af7747f"
      },
      "source": [
        "print(a)\n",
        "print(b)"
      ],
      "execution_count": 9,
      "outputs": [
        {
          "output_type": "stream",
          "text": [
            "tf.Tensor(3, shape=(), dtype=int32)\n",
            "tf.Tensor(4, shape=(), dtype=int32)\n"
          ],
          "name": "stdout"
        }
      ]
    },
    {
      "cell_type": "markdown",
      "metadata": {
        "id": "UBOGKrdKDSfN"
      },
      "source": [
        "基本的運算"
      ]
    },
    {
      "cell_type": "code",
      "metadata": {
        "id": "SadOfqitDSfN",
        "colab": {
          "base_uri": "https://localhost:8080/"
        },
        "outputId": "673f0124-1e27-4e90-e83c-44d5142ce950"
      },
      "source": [
        "c = a + b\n",
        "print(\"a + b = {}\".format(c))\n",
        "d = a * b\n",
        "print(\"a * b = {}\".format(d))"
      ],
      "execution_count": 10,
      "outputs": [
        {
          "output_type": "stream",
          "text": [
            "a + b = 7\n",
            "a * b = 12\n"
          ],
          "name": "stdout"
        }
      ]
    },
    {
      "cell_type": "markdown",
      "metadata": {
        "id": "5ReNIOl8DSfN"
      },
      "source": [
        "2D Tensor 的運算，在Eager Execution模式下可以混和 Tensor 和 Numpy 做運算"
      ]
    },
    {
      "cell_type": "code",
      "metadata": {
        "id": "ql4zAojfDSfN",
        "colab": {
          "base_uri": "https://localhost:8080/"
        },
        "outputId": "0448125b-8aa5-4773-8b48-136e322af864"
      },
      "source": [
        "a = tf.constant([[1., 2.], [3., 4.]], dtype=tf.float32)\n",
        "b = np.array([[1., 0.], [2., 3.]], dtype=np.float32)\n",
        "print(\"a constant: {}D Tensor\".format(a.ndim))\n",
        "\n",
        "c = a + b\n",
        "print(\"a + b = \\n{}\".format(c))\n",
        "d = tf.matmul(a, b)\n",
        "print(\"a * b = \\n{}\".format(d))"
      ],
      "execution_count": 11,
      "outputs": [
        {
          "output_type": "stream",
          "text": [
            "a constant: 2D Tensor\n",
            "a + b = \n",
            "[[2. 2.]\n",
            " [5. 7.]]\n",
            "a * b = \n",
            "[[ 5.  6.]\n",
            " [11. 12.]]\n"
          ],
          "name": "stdout"
        }
      ]
    },
    {
      "cell_type": "markdown",
      "metadata": {
        "id": "XSk5S8gPDSfO"
      },
      "source": [
        "輸出的結果為 Tensor 格式，我們可以將它轉為 Numpy 格式"
      ]
    },
    {
      "cell_type": "code",
      "metadata": {
        "id": "acMJf9XbDSfO",
        "colab": {
          "base_uri": "https://localhost:8080/"
        },
        "outputId": "48675f97-13cd-4d6c-c6cc-692749df6a42"
      },
      "source": [
        "print(c)\n",
        "print(\"NumpyArray:\\n {}\".format(c.numpy()))"
      ],
      "execution_count": 12,
      "outputs": [
        {
          "output_type": "stream",
          "text": [
            "tf.Tensor(\n",
            "[[2. 2.]\n",
            " [5. 7.]], shape=(2, 2), dtype=float32)\n",
            "NumpyArray:\n",
            " [[2. 2.]\n",
            " [5. 7.]]\n"
          ],
          "name": "stdout"
        }
      ]
    },
    {
      "cell_type": "markdown",
      "metadata": {
        "id": "-2N5FLsfDSfO"
      },
      "source": [
        "計算梯度"
      ]
    },
    {
      "cell_type": "code",
      "metadata": {
        "id": "KgsibPb4DSfP",
        "colab": {
          "base_uri": "https://localhost:8080/"
        },
        "outputId": "3a1ee288-5663-4103-ab4c-d478337f62ef"
      },
      "source": [
        "w = tf.Variable([[1.0]])\n",
        "with tf.GradientTape() as tape:\n",
        "    loss = w * w\n",
        "\n",
        "grad = tape.gradient(loss, w)\n",
        "print(grad)"
      ],
      "execution_count": 13,
      "outputs": [
        {
          "output_type": "stream",
          "text": [
            "tf.Tensor([[2.]], shape=(1, 1), dtype=float32)\n"
          ],
          "name": "stdout"
        }
      ]
    },
    {
      "cell_type": "markdown",
      "metadata": {
        "id": "2lAsHQspDSfP"
      },
      "source": [
        "---\n",
        "## Keras\n",
        "\n",
        "TensorFlow2.0將Keras納為內建高階API，因此不必再而外安裝keras套件，直接透過`tf.keras`指令使用。相較於`tf.keras`和`keras`的差別，`tf.keras`更能全面支援tensorflow的指令與模式，例如支援Eager Exection, tf.data, TPU訓練等等。\n",
        "\n",
        "下面將會介紹兩種最常使用的網路搭建方法：\n",
        "- Sequential Model (序列模型)\n",
        "- Function API (函數式模型)"
      ]
    },
    {
      "cell_type": "markdown",
      "metadata": {
        "id": "e5ILoZ5gDSfP"
      },
      "source": [
        "### Import 必要套件"
      ]
    },
    {
      "cell_type": "code",
      "metadata": {
        "id": "jAL77zO2DSfP"
      },
      "source": [
        "import tensorflow as tf\n",
        "from tensorflow import keras\n",
        "from tensorflow.keras import layers\n",
        "from tensorflow.keras.utils import plot_model\n",
        "from IPython.display import Image"
      ],
      "execution_count": 53,
      "outputs": []
    },
    {
      "cell_type": "markdown",
      "metadata": {
        "id": "LOqyJusRDSfP"
      },
      "source": [
        "### Sequential Model\n",
        "\n",
        "Sequential Model有兩種方法搭建，下面為分類問題範例：輸入為28x28 (拉平為784的一維向量)的影像，輸出為10 (分為十個類別)。\n",
        "\n",
        "**Ex1：**"
      ]
    },
    {
      "cell_type": "code",
      "metadata": {
        "id": "bWkVkG-hDSfQ"
      },
      "source": [
        "model = keras.Sequential(name='Sequential')\n",
        "model.add(layers.Dense(64, activation='relu', input_shape=(784,)))\n",
        "model.add(layers.Dense(64, activation='relu'))\n",
        "model.add(layers.Dense(10, activation='softmax'))"
      ],
      "execution_count": 54,
      "outputs": []
    },
    {
      "cell_type": "markdown",
      "metadata": {
        "id": "WzQe7uw5DSfQ"
      },
      "source": [
        "**Ex2：**"
      ]
    },
    {
      "cell_type": "code",
      "metadata": {
        "id": "1r46stWXDSfQ"
      },
      "source": [
        "model = tf.keras.Sequential([layers.Dense(64, activation='relu', input_shape=(784,)),\n",
        "                             layers.Dense(64, activation='relu'), \n",
        "                             layers.Dense(10, activation='softmax')])"
      ],
      "execution_count": 55,
      "outputs": []
    },
    {
      "cell_type": "markdown",
      "metadata": {
        "id": "w1goaXyyDSfQ"
      },
      "source": [
        "顯示出剛剛搭建的網路"
      ]
    },
    {
      "cell_type": "code",
      "metadata": {
        "id": "M0oGeK4sDSfQ",
        "colab": {
          "base_uri": "https://localhost:8080/",
          "height": 0
        },
        "outputId": "60b6e488-2b07-4041-f1ca-34dd20dd3aeb"
      },
      "source": [
        "# 產生網絡拓撲圖\n",
        "plot_model(model, to_file='Sequential_Model.png')\n",
        "\n",
        "# 秀出網絡拓撲圖\n",
        "Image('Sequential_Model.png')"
      ],
      "execution_count": 56,
      "outputs": [
        {
          "output_type": "execute_result",
          "data": {
            "image/png": "[encoded data removed]",
            "text/plain": [
              "<IPython.core.display.Image object>"
            ]
          },
          "metadata": {
            "tags": []
          },
          "execution_count": 56
        }
      ]
    },
    {
      "cell_type": "markdown",
      "metadata": {
        "id": "OBao0871DSfR"
      },
      "source": [
        "### Functional API\n",
        "**1. Sample Network：**使用Functional API 一樣可以快速幾行代碼完成和上面Sequential Model 相同的架構。"
      ]
    },
    {
      "cell_type": "code",
      "metadata": {
        "id": "mM_h5t0WDSfR",
        "colab": {
          "base_uri": "https://localhost:8080/",
          "height": 0
        },
        "outputId": "154f3980-d661-40f7-f90e-bf722505537e"
      },
      "source": [
        "inputs = keras.Input(shape=(784,), name='Input')\n",
        "hidden1 = layers.Dense(64, activation='relu', name='hidden1')(inputs)\n",
        "hidden2 = layers.Dense(64, activation='relu', name='hidden2')(hidden1)\n",
        "outputs = layers.Dense(10, activation='softmax', name='Output')(hidden2)\n",
        "\n",
        "model = keras.Model(inputs=inputs, outputs=outputs)\n",
        "\n",
        "# 產生網絡拓撲圖\n",
        "plot_model(model, to_file='Functional_API_Sample_Model.png')\n",
        "\n",
        "# 秀出網絡拓撲圖\n",
        "Image('Functional_API_Sample_Model.png')"
      ],
      "execution_count": 57,
      "outputs": [
        {
          "output_type": "execute_result",
          "data": {
            "image/png": "[encoded data removed]",
            "text/plain": [
              "<IPython.core.display.Image object>"
            ]
          },
          "metadata": {
            "tags": []
          },
          "execution_count": 57
        }
      ]
    },
    {
      "cell_type": "markdown",
      "metadata": {
        "id": "O2xV_zN1DSfR"
      },
      "source": [
        "**Multi Input Model：**多輸入單輸出模型，下面的範例為商品價格預測，要預測商品價格，我們需要商品照片、品牌、使用狀況等等。而商品圖片和品牌我們可以經過不同層輸入並做不同的處理，網路架構如下。"
      ]
    },
    {
      "cell_type": "code",
      "metadata": {
        "id": "cTpfxfudDSfR",
        "colab": {
          "base_uri": "https://localhost:8080/",
          "height": 0
        },
        "outputId": "818f8540-0fbe-4d84-abed-696331b47a7e"
      },
      "source": [
        "img_input = keras.Input(shape=(28, 28, 1), name='Image_Input')\n",
        "info_input = keras.Input(shape=(1, ), name='Information_Input')\n",
        "\n",
        "hidden1_1 = layers.Conv2D(64, kernel_size=5, strides=2, activation='relu', name='hidden1_1')(img_input)\n",
        "hidden1_2 = layers.Conv2D(32, kernel_size=5, strides=2, activation='relu', name='hidden1_2')(hidden1_1)\n",
        "hidden1_2_ft= layers.Flatten()(hidden1_2)\n",
        "hidden1_3 = layers.Dense(64, activation='relu', name='hidden1_3')(info_input)\n",
        "concat = layers.Concatenate()([hidden1_2_ft, hidden1_3])\n",
        "hidden2 = layers.Dense(64, activation='relu', name='hidden2')(concat)\n",
        "outputs = layers.Dense(1, name='Output')(hidden2)\n",
        "\n",
        "model = keras.Model(inputs=[img_input, info_input], outputs=outputs)\n",
        "\n",
        "# 產生網絡拓撲圖\n",
        "plot_model(model, to_file='Functional_API_Multi_Input_Model.png')\n",
        "\n",
        "# 秀出網絡拓撲圖\n",
        "Image('Functional_API_Multi_Input_Model.png')"
      ],
      "execution_count": 58,
      "outputs": [
        {
          "output_type": "execute_result",
          "data": {
            "image/png": "[encoded data removed]",
            "text/plain": [
              "<IPython.core.display.Image object>"
            ]
          },
          "metadata": {
            "tags": []
          },
          "execution_count": 58
        }
      ]
    },
    {
      "cell_type": "markdown",
      "metadata": {
        "id": "Klcrc718DSfS"
      },
      "source": [
        "**Multi Output Network：**單輸入多輸出模型，這種類型的架構在影響處理的領域很長看到，下面舉幾個常見多輸出模型應用例子。\n",
        "\n",
        "- 物件偵測：輸入一張圖像，預測物件位置與物件類別等。\n",
        "- 人像識別：輸入一張圖像，預測圖片中人的性別、年齡等。"
      ]
    },
    {
      "cell_type": "code",
      "metadata": {
        "id": "nRp0Til7DSfS",
        "colab": {
          "base_uri": "https://localhost:8080/",
          "height": 0
        },
        "outputId": "598f961e-16c7-4f94-ec67-9e414ee6b2f6"
      },
      "source": [
        "inputs = keras.Input(shape=(28, 28, 1), name='Input')\n",
        "\n",
        "hidden1 = layers.Conv2D(64, kernel_size=3, activation='relu', name='hidden1')(inputs)\n",
        "hidden2 = layers.Conv2D(64, kernel_size=3, strides=2, activation='relu', name='hidden2')(hidden1)\n",
        "hidden3 = layers.Conv2D(64, kernel_size=3, strides=2, activation='relu', name='hidden3')(hidden2)\n",
        "flatten = layers.Flatten()(hidden3)\n",
        "\n",
        "age_output = layers.Dense(1, name='Age_Output')(flatten)\n",
        "gender_output = layers.Dense(1, name='Gender_Output')(flatten)\n",
        "\n",
        "model = keras.Model(inputs=inputs, outputs=[age_output, gender_output])\n",
        "\n",
        "# 產生網絡拓撲圖\n",
        "plot_model(model, to_file='Functional_API_Multi_Output_Model.png')\n",
        "\n",
        "# 秀出網絡拓撲圖\n",
        "Image('Functional_API_Multi_Output_Model.png')"
      ],
      "execution_count": 59,
      "outputs": [
        {
          "output_type": "execute_result",
          "data": {
            "image/png": "[encoded data removed]",
            "text/plain": [
              "<IPython.core.display.Image object>"
            ]
          },
          "metadata": {
            "tags": []
          },
          "execution_count": 59
        }
      ]
    },
    {
      "cell_type": "markdown",
      "metadata": {
        "id": "25HHMvuODSfS"
      },
      "source": [
        "**Multi Input and Multi Output Network：**多輸入多輸出模型，例如天氣預測，輸入可能為當前的天氣資訊和衛星雲圖，而輸出就是降雨機率、溫度和濕度等。"
      ]
    },
    {
      "cell_type": "code",
      "metadata": {
        "id": "Tp1tkCjVDSfS",
        "colab": {
          "base_uri": "https://localhost:8080/",
          "height": 0
        },
        "outputId": "7839a6a2-ae95-44f4-c889-a391742bd128"
      },
      "source": [
        "image_inputs = keras.Input(shape=(28, 28, 1), name='Image_Input')\n",
        "hidden1 = layers.Conv2D(64, kernel_size=3, activation='relu', name='hidden1')(image_inputs)\n",
        "hidden2 = layers.Conv2D(64, kernel_size=3, strides=2, activation='relu', name='hidden2')(hidden1)\n",
        "hidden3 = layers.Conv2D(64, kernel_size=3, strides=2, activation='relu', name='hidden3')(hidden2)\n",
        "flatten = layers.Flatten()(hidden3)\n",
        "\n",
        "info_inputs = keras.Input(shape=(10, ), name='Info_Input')\n",
        "hidden4 = layers.Dense(64)(info_inputs)\n",
        "\n",
        "concat = layers.Concatenate()([flatten, hidden4])\n",
        "\n",
        "weather_outputs = layers.Dense(1, name='Output1')(concat)\n",
        "temp_outputs = layers.Dense(1, name='Output2')(concat)\n",
        "humidity_outputs = layers.Dense(1, name='Output3')(concat)\n",
        "\n",
        "model = keras.Model(inputs=[image_inputs, info_inputs], \n",
        "                    outputs=[weather_outputs, temp_outputs, humidity_outputs])\n",
        "\n",
        "# 產生網絡拓撲圖\n",
        "plot_model(model, to_file='Functional_API_Multi_Input_Multi_Output_Model.png')\n",
        "\n",
        "# 秀出網絡拓撲圖\n",
        "Image('Functional_API_Multi_Input_Multi_Output_Model.png')"
      ],
      "execution_count": 60,
      "outputs": [
        {
          "output_type": "execute_result",
          "data": {
            "image/png": "[encoded data removed]",
            "text/plain": [
              "<IPython.core.display.Image object>"
            ]
          },
          "metadata": {
            "tags": []
          },
          "execution_count": 60
        }
      ]
    },
    {
      "cell_type": "markdown",
      "metadata": {
        "id": "3HqZiRLbDSfT"
      },
      "source": [
        "---\n",
        "## tf.data"
      ]
    },
    {
      "cell_type": "markdown",
      "metadata": {
        "id": "A-L8Jq0xDSfT"
      },
      "source": [
        "### 基本操作"
      ]
    },
    {
      "cell_type": "markdown",
      "metadata": {
        "id": "R6vnmn-3DSfU"
      },
      "source": [
        "1.`tf.data.Dataset.from_tensors`"
      ]
    },
    {
      "cell_type": "code",
      "metadata": {
        "id": "8AHeLwJ_DSfU",
        "colab": {
          "base_uri": "https://localhost:8080/"
        },
        "outputId": "91e8baa6-2261-495a-8084-e8990e27b873"
      },
      "source": [
        "dataset = tf.data.Dataset.from_tensors(tf.constant([1, 2, 3, 4, 5, 6, 7, 8, 9, 10], shape=(10, )))\n",
        "print(dataset)"
      ],
      "execution_count": 61,
      "outputs": [
        {
          "output_type": "stream",
          "text": [
            "<TensorDataset shapes: (10,), types: tf.int32>\n"
          ],
          "name": "stdout"
        }
      ]
    },
    {
      "cell_type": "markdown",
      "metadata": {
        "id": "4cBP6ZbADSfU"
      },
      "source": [
        "2.`tf.data.Dataset.from_tensor_slices`"
      ]
    },
    {
      "cell_type": "code",
      "metadata": {
        "id": "6e60VRRkDSfU",
        "colab": {
          "base_uri": "https://localhost:8080/"
        },
        "outputId": "ae423e3b-3365-41fe-82ff-b49170102438"
      },
      "source": [
        "x_data = tf.data.Dataset.from_tensor_slices(tf.constant([0, 1, 2, 3, 4, 5, 6, 7, 8, 9], shape=(10, )))\n",
        "print(x_data)\n",
        "\n",
        "y_data = tf.data.Dataset.from_tensor_slices(tf.constant([0, 2, 4, 6, 8, 10, 12, 14, 16, 18], shape=(10, )))\n",
        "print(y_data)"
      ],
      "execution_count": 62,
      "outputs": [
        {
          "output_type": "stream",
          "text": [
            "<TensorSliceDataset shapes: (), types: tf.int32>\n",
            "<TensorSliceDataset shapes: (), types: tf.int32>\n"
          ],
          "name": "stdout"
        }
      ]
    },
    {
      "cell_type": "markdown",
      "metadata": {
        "id": "uwzQAC-CDSfU"
      },
      "source": [
        "3.`for loop`讀取數據："
      ]
    },
    {
      "cell_type": "code",
      "metadata": {
        "id": "6_H8Hd5YDSfV",
        "colab": {
          "base_uri": "https://localhost:8080/"
        },
        "outputId": "59cc51ec-74ae-4269-8efa-73d71719f3db"
      },
      "source": [
        "for data in dataset:\n",
        "    print(data)"
      ],
      "execution_count": 63,
      "outputs": [
        {
          "output_type": "stream",
          "text": [
            "tf.Tensor([ 1  2  3  4  5  6  7  8  9 10], shape=(10,), dtype=int32)\n"
          ],
          "name": "stdout"
        }
      ]
    },
    {
      "cell_type": "code",
      "metadata": {
        "id": "Cxp9f5iGDSfV",
        "colab": {
          "base_uri": "https://localhost:8080/"
        },
        "outputId": "762b0f61-5274-4343-b3b6-f8657c3b7dda"
      },
      "source": [
        "for data1, data2 in zip(x_data, y_data):\n",
        "    print('x: {}, y: {}'.format(data1, data2))"
      ],
      "execution_count": 64,
      "outputs": [
        {
          "output_type": "stream",
          "text": [
            "x: 0, y: 0\n",
            "x: 1, y: 2\n",
            "x: 2, y: 4\n",
            "x: 3, y: 6\n",
            "x: 4, y: 8\n",
            "x: 5, y: 10\n",
            "x: 6, y: 12\n",
            "x: 7, y: 14\n",
            "x: 8, y: 16\n",
            "x: 9, y: 18\n"
          ],
          "name": "stdout"
        }
      ]
    },
    {
      "cell_type": "markdown",
      "metadata": {
        "id": "RgE1vwETDSfV"
      },
      "source": [
        "3.`take`：讀取資料"
      ]
    },
    {
      "cell_type": "code",
      "metadata": {
        "id": "RptZXCbfDSfV",
        "colab": {
          "base_uri": "https://localhost:8080/"
        },
        "outputId": "f824fc90-94bf-40d6-bfc3-5b4d83905fca"
      },
      "source": [
        "for data in dataset:\n",
        "    print(data)"
      ],
      "execution_count": 65,
      "outputs": [
        {
          "output_type": "stream",
          "text": [
            "tf.Tensor([ 1  2  3  4  5  6  7  8  9 10], shape=(10,), dtype=int32)\n"
          ],
          "name": "stdout"
        }
      ]
    },
    {
      "cell_type": "code",
      "metadata": {
        "id": "MayLiWXnDSfV",
        "colab": {
          "base_uri": "https://localhost:8080/"
        },
        "outputId": "f67c78bd-1578-4dff-9817-bff457ebc9ec"
      },
      "source": [
        "for data1, data2 in zip(x_data.take(5), y_data.take(5)):\n",
        "    print('x: {}, y: {}'.format(data1, data2))"
      ],
      "execution_count": 66,
      "outputs": [
        {
          "output_type": "stream",
          "text": [
            "x: 0, y: 0\n",
            "x: 1, y: 2\n",
            "x: 2, y: 4\n",
            "x: 3, y: 6\n",
            "x: 4, y: 8\n"
          ],
          "name": "stdout"
        }
      ]
    },
    {
      "cell_type": "code",
      "metadata": {
        "id": "nreXD0hRDSfW",
        "colab": {
          "base_uri": "https://localhost:8080/"
        },
        "outputId": "e96325f3-daee-4724-8085-9a9c61a536f2"
      },
      "source": [
        "for data1, data2 in zip(x_data.take(12), y_data.take(12)):\n",
        "    print('x: {}, y: {}'.format(data1, data2))"
      ],
      "execution_count": 67,
      "outputs": [
        {
          "output_type": "stream",
          "text": [
            "x: 0, y: 0\n",
            "x: 1, y: 2\n",
            "x: 2, y: 4\n",
            "x: 3, y: 6\n",
            "x: 4, y: 8\n",
            "x: 5, y: 10\n",
            "x: 6, y: 12\n",
            "x: 7, y: 14\n",
            "x: 8, y: 16\n",
            "x: 9, y: 18\n"
          ],
          "name": "stdout"
        }
      ]
    },
    {
      "cell_type": "markdown",
      "metadata": {
        "id": "L0azvjZfDSfW"
      },
      "source": [
        "5.`tf.data.Dataset.zip`"
      ]
    },
    {
      "cell_type": "code",
      "metadata": {
        "id": "IX9_QKhrDSfW",
        "colab": {
          "base_uri": "https://localhost:8080/"
        },
        "outputId": "71a042ff-75ba-4bda-e42b-0ee9a838e217"
      },
      "source": [
        "dataset = tf.data.Dataset.zip((x_data, y_data))\n",
        "print(dataset)"
      ],
      "execution_count": 68,
      "outputs": [
        {
          "output_type": "stream",
          "text": [
            "<ZipDataset shapes: ((), ()), types: (tf.int32, tf.int32)>\n"
          ],
          "name": "stdout"
        }
      ]
    },
    {
      "cell_type": "markdown",
      "metadata": {
        "id": "Fhp5BAZsDSfW"
      },
      "source": [
        "6.`map`：可以使用map來轉換數據"
      ]
    },
    {
      "cell_type": "code",
      "metadata": {
        "id": "-sFXIEa-DSfX",
        "colab": {
          "base_uri": "https://localhost:8080/"
        },
        "outputId": "6dd61b8d-8a24-4dc5-bfa8-ff0d60c505db"
      },
      "source": [
        "tf.data.Dataset.range(10).map(lambda x: x*2)"
      ],
      "execution_count": 69,
      "outputs": [
        {
          "output_type": "execute_result",
          "data": {
            "text/plain": [
              "<MapDataset shapes: (), types: tf.int64>"
            ]
          },
          "metadata": {
            "tags": []
          },
          "execution_count": 69
        }
      ]
    },
    {
      "cell_type": "markdown",
      "metadata": {
        "id": "QyKAC8OQDSfX"
      },
      "source": [
        "7.命名：可以字典方式為elements的組件命名"
      ]
    },
    {
      "cell_type": "code",
      "metadata": {
        "id": "p99zMNr3DSfX",
        "colab": {
          "base_uri": "https://localhost:8080/"
        },
        "outputId": "fa95b598-0a15-411f-a5cd-0ba2c50b1fdf"
      },
      "source": [
        "x = tf.data.Dataset.range(10)\n",
        "y = tf.data.Dataset.range(10).map(lambda x: x*2)\n",
        "\n",
        "dataset = tf.data.Dataset.zip({\"x\": x, \"y\": y})\n",
        "print(dataset)"
      ],
      "execution_count": 70,
      "outputs": [
        {
          "output_type": "stream",
          "text": [
            "<ZipDataset shapes: {x: (), y: ()}, types: {x: tf.int64, y: tf.int64}>\n"
          ],
          "name": "stdout"
        }
      ]
    },
    {
      "cell_type": "code",
      "metadata": {
        "id": "p7fmjE_IDSfX",
        "colab": {
          "base_uri": "https://localhost:8080/"
        },
        "outputId": "f3519a07-5560-4ac9-d793-350b43dacdaf"
      },
      "source": [
        "for data in dataset.take(10):\n",
        "    print('x: {}, y: {}'.format(data['x'], data['y']))"
      ],
      "execution_count": 71,
      "outputs": [
        {
          "output_type": "stream",
          "text": [
            "x: 0, y: 0\n",
            "x: 1, y: 2\n",
            "x: 2, y: 4\n",
            "x: 3, y: 6\n",
            "x: 4, y: 8\n",
            "x: 5, y: 10\n",
            "x: 6, y: 12\n",
            "x: 7, y: 14\n",
            "x: 8, y: 16\n",
            "x: 9, y: 18\n"
          ],
          "name": "stdout"
        }
      ]
    },
    {
      "cell_type": "markdown",
      "metadata": {
        "id": "G__AK-k2DSfX"
      },
      "source": [
        "8.設定每batch讀取的數量"
      ]
    },
    {
      "cell_type": "code",
      "metadata": {
        "id": "ZjZAsmxKDSfa",
        "colab": {
          "base_uri": "https://localhost:8080/"
        },
        "outputId": "579533b8-6471-4343-f804-b35e9136b1d8"
      },
      "source": [
        "dataset = tf.data.Dataset.zip({\"x\": x, \"y\": y}).batch(2)\n",
        "\n",
        "for data in dataset.take(5):\n",
        "    print('x: {}, y: {}'.format(data['x'], data['y']))"
      ],
      "execution_count": 72,
      "outputs": [
        {
          "output_type": "stream",
          "text": [
            "x: [0 1], y: [0 2]\n",
            "x: [2 3], y: [4 6]\n",
            "x: [4 5], y: [ 8 10]\n",
            "x: [6 7], y: [12 14]\n",
            "x: [8 9], y: [16 18]\n"
          ],
          "name": "stdout"
        }
      ]
    },
    {
      "cell_type": "markdown",
      "metadata": {
        "id": "dVXZisPmDSfa"
      },
      "source": [
        "9.`shuffle`：dataset資料 會被載入buffer中，並從buffer中隨機選取資料出來，取出資料產生的空位會從新的數據替補。而`buffer_size`是設定buffer大小，最好的設定是**大於**或**等於**整個dataset資料個個數。"
      ]
    },
    {
      "cell_type": "code",
      "metadata": {
        "id": "JNqf1_HTDSfa",
        "colab": {
          "base_uri": "https://localhost:8080/"
        },
        "outputId": "5b96d1c8-9c71-44b4-b767-e3c4c7247bc8"
      },
      "source": [
        "dataset = dataset.shuffle(10)\n",
        "for data in dataset.take(5):\n",
        "    print('x: {}, y: {}'.format(data['x'], data['y']))"
      ],
      "execution_count": 73,
      "outputs": [
        {
          "output_type": "stream",
          "text": [
            "x: [4 5], y: [ 8 10]\n",
            "x: [2 3], y: [4 6]\n",
            "x: [8 9], y: [16 18]\n",
            "x: [0 1], y: [0 2]\n",
            "x: [6 7], y: [12 14]\n"
          ],
          "name": "stdout"
        }
      ]
    },
    {
      "cell_type": "markdown",
      "metadata": {
        "id": "F2KMK-T-DSfb"
      },
      "source": [
        "10.`repeat`：當dataset的資料讀取完後就讀會取不到資料，透過設定`repeat(n)`可以重複讀取dataset n次。"
      ]
    },
    {
      "cell_type": "code",
      "metadata": {
        "id": "T88N_WDMDSfb",
        "colab": {
          "base_uri": "https://localhost:8080/"
        },
        "outputId": "0cfef527-9515-4212-8dbf-96bae0b21fe5"
      },
      "source": [
        "for data in dataset.take(10):\n",
        "    print('x: {}, y: {}'.format(data['x'], data['y']))\n",
        "\n",
        "    \n",
        "print('-' * 50)\n",
        "dataset = dataset.repeat(2)\n",
        "for data in dataset.take(10):\n",
        "    print('x: {}, y: {}'.format(data['x'], data['y']))"
      ],
      "execution_count": 74,
      "outputs": [
        {
          "output_type": "stream",
          "text": [
            "x: [6 7], y: [12 14]\n",
            "x: [8 9], y: [16 18]\n",
            "x: [2 3], y: [4 6]\n",
            "x: [4 5], y: [ 8 10]\n",
            "x: [0 1], y: [0 2]\n",
            "--------------------------------------------------\n",
            "x: [0 1], y: [0 2]\n",
            "x: [6 7], y: [12 14]\n",
            "x: [8 9], y: [16 18]\n",
            "x: [4 5], y: [ 8 10]\n",
            "x: [2 3], y: [4 6]\n",
            "x: [4 5], y: [ 8 10]\n",
            "x: [0 1], y: [0 2]\n",
            "x: [6 7], y: [12 14]\n",
            "x: [2 3], y: [4 6]\n",
            "x: [8 9], y: [16 18]\n"
          ],
          "name": "stdout"
        }
      ]
    }
  ]
}