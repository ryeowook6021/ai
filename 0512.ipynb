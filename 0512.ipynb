{
  "nbformat": 4,
  "nbformat_minor": 0,
  "metadata": {
    "colab": {
      "name": "0512.ipynb",
      "provenance": [],
      "authorship_tag": "ABX9TyO4f2GirNhWs1BoiUw8YRXP",
      "include_colab_link": true
    },
    "kernelspec": {
      "name": "python3",
      "display_name": "Python 3"
    },
    "language_info": {
      "name": "python"
    }
  },
  "cells": [
    {
      "cell_type": "markdown",
      "metadata": {
        "id": "view-in-github",
        "colab_type": "text"
      },
      "source": [
        "<a href=\"https://colab.research.google.com/github/ryeowook6021/ai/blob/main/0512.ipynb\" target=\"_parent\"><img src=\"https://colab.research.google.com/assets/colab-badge.svg\" alt=\"Open In Colab\"/></a>"
      ]
    },
    {
      "cell_type": "markdown",
      "metadata": {
        "id": "istk4v70V4kL"
      },
      "source": [
        "第一題 -KMEANS\n"
      ]
    },
    {
      "cell_type": "code",
      "metadata": {
        "colab": {
          "base_uri": "https://localhost:8080/",
          "height": 336
        },
        "id": "6eplxWkCQtJC",
        "outputId": "a934da26-ff3a-48b8-fad9-d95ffefe9563"
      },
      "source": [
        "import numpy as np\n",
        "from sklearn.model_selection import train_test_split\n",
        "from sklearn.cluster import KMeans\n",
        "from time import time\n",
        "import numpy as np\n",
        "import matplotlib.pyplot as plt\n",
        "\n",
        "from sklearn import metrics\n",
        "X=np.array([[1,1],[1.1,1.1],[1.2,1.2],[2,2],[2.1,2.1],[2.2,2.2]])\n",
        "y=[1,1,1,0,0,0]\n",
        "kmeans=KMeans(n_clusters=2,random_state=0).fit(X)\n",
        "print(\"集群中心的座標\",keans.cluster_centers_)\n",
        "print(\"預測\",kmeans.predict(X))\n",
        "print(\"實際:\",y)\n",
        "print(\"預測[1,1],[2.3,2.1]:\",kmeans.predict([[1,1],[2.3,2.1]]))\n",
        "plt.axis([0,3,0,3])\n",
        "plt.plot(X[:3,0],X[:3,1],'yx')\n",
        "plt.plot(X[3:,0],X[3:,1],'g.')\n",
        "plt.plot(kmeans.cluster_centers_[:,0],kmeans.cluster_centers_[:,1],'ro')\n",
        "plt.xticks(())\n",
        "plt.yticks(())\n",
        "plt.show()"
      ],
      "execution_count": 6,
      "outputs": [
        {
          "output_type": "stream",
          "text": [
            "集群中心的座標 [[2.1 2.1]\n",
            " [1.1 1.1]]\n",
            "預測 [1 1 1 0 0 0]\n",
            "實際: [1, 1, 1, 0, 0, 0]\n",
            "預測[1,1],[2.3,2.1]: [1 0]\n"
          ],
          "name": "stdout"
        },
        {
          "output_type": "display_data",
          "data": {
            "image/png": "[encoded data removed]",
            "text/plain": [
              "<Figure size 432x288 with 1 Axes>"
            ]
          },
          "metadata": {
            "tags": []
          }
        }
      ]
    },
    {
      "cell_type": "markdown",
      "metadata": {
        "id": "qGpz35YzWB4i"
      },
      "source": [
        "第二題 鳶尾花\n",
        "```\n",
        "\n"
      ]
    },
    {
      "cell_type": "code",
      "metadata": {
        "colab": {
          "base_uri": "https://localhost:8080/"
        },
        "id": "H7D4gOp_YoMy",
        "outputId": "318cd2ee-5c54-44e7-9292-de1474e69110"
      },
      "source": [
        "import matplotlib.pyplot as plt\n",
        "import numpy as np\n",
        "from sklearn import datasets\n",
        "from sklearn.model_selection import train_test_split\n",
        "from sklearn.cluster import KMeans\n",
        "from sklearn import metrics\n",
        "\n",
        "iris =datasets.load_iris()\n",
        "\n",
        "iris_X_train,iris_X_test,iris_y_train,iris_y_test=train_test_split(iris.data,iris.target,test_size=0.2)\n",
        "kmeans=KMeans(n_clusters=3)\n",
        "kmeans_fit=kmeans.fit(iris_X_train)\n",
        "\n",
        "print(\"實際\",iris_y_train)\n",
        "print(\"預測\",kmeans_fit.labels_)\n",
        "\n",
        "iris_y_train[iris_y_train==1]=11\n",
        "iris_y_train[iris_y_train==0]=1\n",
        "iris_y_train[iris_y_train==11]=0\n",
        "print(\"調整\",iris_y_train)\n",
        "\n",
        "score=metrics.accuracy_score(iris_y_train,kmeans.predict(iris_X_train))\n",
        "print(\"準確率:{0:f}\",format(score))"
      ],
      "execution_count": 17,
      "outputs": [
        {
          "output_type": "stream",
          "text": [
            "實際 [1 1 2 2 0 1 2 0 0 0 2 0 2 2 0 0 2 2 2 1 2 0 1 0 1 1 2 1 1 1 2 1 1 0 0 2 2\n",
            " 2 0 1 0 0 1 2 1 2 2 2 1 2 1 0 0 1 2 2 0 1 1 1 1 1 2 1 1 0 1 1 1 1 2 2 2 1\n",
            " 0 2 1 1 0 0 1 2 1 2 0 2 2 2 2 0 0 0 0 1 0 0 1 2 1 0 2 2 0 1 0 0 2 0 1 0 2\n",
            " 0 0 0 2 0 2 0 2 0]\n",
            "預測 [0 0 2 2 1 0 2 1 1 1 0 1 2 2 1 1 2 2 2 0 0 1 0 1 0 0 2 0 0 0 2 0 0 1 1 0 0\n",
            " 2 1 0 1 1 0 0 0 0 2 2 0 2 0 1 1 0 2 2 1 0 0 0 0 0 2 0 0 1 0 2 0 0 0 2 0 0\n",
            " 1 2 0 0 1 1 0 0 0 2 1 2 2 2 2 1 1 1 1 0 1 1 0 2 0 1 2 0 1 0 1 1 0 1 0 1 2\n",
            " 1 1 1 2 1 2 1 2 1]\n",
            "調整 [0 0 2 2 1 0 2 1 1 1 2 1 2 2 1 1 2 2 2 0 2 1 0 1 0 0 2 0 0 0 2 0 0 1 1 2 2\n",
            " 2 1 0 1 1 0 2 0 2 2 2 0 2 0 1 1 0 2 2 1 0 0 0 0 0 2 0 0 1 0 0 0 0 2 2 2 0\n",
            " 1 2 0 0 1 1 0 2 0 2 1 2 2 2 2 1 1 1 1 0 1 1 0 2 0 1 2 2 1 0 1 1 2 1 0 1 2\n",
            " 1 1 1 2 1 2 1 2 1]\n",
            "準確率:{0:f} 0.9\n"
          ],
          "name": "stdout"
        }
      ]
    },
    {
      "cell_type": "markdown",
      "metadata": {
        "id": "f2AS2dWtYo15"
      },
      "source": [
        ""
      ]
    },
    {
      "cell_type": "code",
      "metadata": {
        "colab": {
          "base_uri": "https://localhost:8080/",
          "height": 268
        },
        "id": "21wqmrPTWJmi",
        "outputId": "38e94145-0b2b-4c5b-f18e-9313e220f15c"
      },
      "source": [
        "import matplotlib.pyplot as plt\n",
        "import numpy as np\n",
        "from sklearn import datasets\n",
        "from sklearn.model_selection import train_test_split\n",
        "from sklearn.cluster import KMeans\n",
        "from sklearn import metrics\n",
        "\n",
        "iris =datasets.load_iris()\n",
        "\n",
        "iris_X_train,iris_X_test,iris_y_train,iris_y_test=train_test_split(iris.data,iris.target,test_size=0.2)\n",
        "\n",
        "kmeans=KMeans(n_clusters=3)\n",
        "kmeans.fit(iris_X_train)\n",
        "y_predict=kmeans.predict(iris_X_train)\n",
        "\n",
        "x1=iris_X_train[:,0]\n",
        "y1=iris_X_train[:,1]\n",
        "plt.scatter(x1,y1,c=y_predict,cmap='viridis')\n",
        "centers=kmeans.cluster_centers_\n",
        "plt.scatter(centers[:,0],centers[:,1],c='black',s=200,alpha=0.5);\n",
        "plt.show()"
      ],
      "execution_count": 8,
      "outputs": [
        {
          "output_type": "display_data",
          "data": {
            "image/png": "[encoded data removed]",
            "text/plain": [
              "<Figure size 432x288 with 1 Axes>"
            ]
          },
          "metadata": {
            "tags": [],
            "needs_background": "light"
          }
        }
      ]
    },
    {
      "cell_type": "markdown",
      "metadata": {
        "id": "W253__ixbeba"
      },
      "source": [
        "使用支援向量機(Support Vector Machine, SVM)[1]\n",
        "\n",
        "kmeans是將資料分群\n",
        "而SVM是一種監督式的學習方法，\n",
        "目標是找到一個決策邊界(decision boundary)，此邊界可將資料分成兩邊，\n",
        "而且要找到滿足此條屆的邊界最大值"
      ]
    },
    {
      "cell_type": "code",
      "metadata": {
        "colab": {
          "base_uri": "https://localhost:8080/",
          "height": 383
        },
        "id": "tiZVgdQ4cQpx",
        "outputId": "2ec87ad9-90b8-4ec5-ff5c-4a5164990243"
      },
      "source": [
        "import matplotlib.pyplot as plt\n",
        "from sklearn import datasets\n",
        "import numpy as np\n",
        "from sklearn.preprocessing import StandardScaler\n",
        "from sklearn.model_selection import train_test_split\n",
        "from sklearn.svm import SVC\n",
        "from sklearn.metrics import accuracy_score\n",
        "from matplotlib.colors import ListedColormap\n",
        "\n",
        "\n",
        "def plot_decision_regions(X, y, classifier, test_idx=None, resolution=0.02):\n",
        "    # setup markers generator and color map\n",
        "    markers = ('s', 'x', 'o', '^', 'v')\n",
        "    colors = ('red', 'blue', 'lightgreen', 'gray', 'cyan')\n",
        "    cmap = ListedColormap(colors[:len(np.unique(y))])\n",
        "\n",
        "    # plot the decision surface\n",
        "    x1_min, x1_max = X[:, 0].min() - 1, X[:, 0].max() + 1\n",
        "    x2_min, x2_max = X[:, 1].min() - 1, X[:, 1].max() + 1\n",
        "    xx1, xx2 = np.meshgrid(\n",
        "        np.arange(x1_min, x1_max, resolution),\n",
        "        np.arange(x2_min, x2_max, resolution))\n",
        "\n",
        "    z = classifier.predict(np.array([xx1.ravel(), xx2.ravel()]).T)\n",
        "    z = z.reshape(xx1.shape)\n",
        "    plt.contourf(xx1, xx2, z, alpha=0.4, cmap=cmap)\n",
        "    plt.xlim(xx1.min(), xx1.max())\n",
        "    plt.ylim(xx2.min(), xx2.max())\n",
        "\n",
        "    # plot all samples\n",
        "    X_test, y_test = X[test_idx, :], y[test_idx]\n",
        "    for idx, cl in enumerate(np.unique(y)):\n",
        "        plt.scatter(\n",
        "            x=X[y == cl, 0],\n",
        "            y=X[y == cl, 1],\n",
        "            alpha=0.8,\n",
        "            c=cmap(idx),\n",
        "            marker=markers[idx],\n",
        "            label=cl)\n",
        "\n",
        "    # hightlight test samples\n",
        "    if test_idx:\n",
        "        X_test, y_test = X[test_idx, :], y[test_idx]\n",
        "        plt.scatter(\n",
        "            X_test[:, 0],\n",
        "            X_test[:, 1],\n",
        "            c='',\n",
        "            alpha=1.0,\n",
        "            linewidth=1,\n",
        "            marker='o',\n",
        "            s=55)\n",
        "\n",
        "\n",
        "def main():\n",
        "    iris = datasets.load_iris()\n",
        "    X = iris.data[:, [2, 3]]\n",
        "    y = iris.target\n",
        "    X = np.array([m for m, n in zip(X, y) if n != 2])\n",
        "    boolarr = y != 2\n",
        "    y = y[boolarr]\n",
        "\n",
        "    X_train, X_test, y_train, y_test = train_test_split(\n",
        "        X, y, test_size=0.3, random_state=0)\n",
        "\n",
        "    sc = StandardScaler()\n",
        "    sc.fit(X_train)\n",
        "    X_train_std = sc.transform(X_train)\n",
        "    X_test_std = sc.transform(X_test)\n",
        "\n",
        "    svm = SVC(kernel='linear', C=1.0, random_state=0)\n",
        "    svm.fit(X_train_std, y_train)\n",
        "    y_pred = svm.predict(X_test_std)\n",
        "\n",
        "    print(\"Misclassified smaples: %d\" % (y_test != y_pred).sum())\n",
        "    print(\"Accuracy: %0.2f\" % accuracy_score(y_test, y_pred))\n",
        "\n",
        "    X_combined_std = np.vstack((X_train_std, X_test_std))\n",
        "    y_combined_std = np.hstack((y_train, y_test))\n",
        "    plot_decision_regions(\n",
        "        X=X_combined_std,\n",
        "        y=y_combined_std,\n",
        "        classifier=svm,\n",
        "        test_idx=range(50, 100))\n",
        "    plt.xlabel('sepal length [standarlized]')\n",
        "    plt.ylabel('petal length [standarlized]')\n",
        "    plt.legend(loc='upper left')\n",
        "    plt.show()\n",
        "\n",
        "\n",
        "if __name__ == \"__main__\":\n",
        "    main()"
      ],
      "execution_count": 14,
      "outputs": [
        {
          "output_type": "stream",
          "text": [
            "*c* argument looks like a single numeric RGB or RGBA sequence, which should be avoided as value-mapping will have precedence in case its length matches with *x* & *y*.  Please use the *color* keyword-argument or provide a 2-D array with a single row if you intend to specify the same RGB or RGBA value for all points.\n",
            "*c* argument looks like a single numeric RGB or RGBA sequence, which should be avoided as value-mapping will have precedence in case its length matches with *x* & *y*.  Please use the *color* keyword-argument or provide a 2-D array with a single row if you intend to specify the same RGB or RGBA value for all points.\n"
          ],
          "name": "stderr"
        },
        {
          "output_type": "stream",
          "text": [
            "Misclassified smaples: 0\n",
            "Accuracy: 1.00\n"
          ],
          "name": "stdout"
        },
        {
          "output_type": "stream",
          "text": [
            "/usr/local/lib/python3.7/dist-packages/ipykernel_launcher.py:51: MatplotlibDeprecationWarning: Using a string of single character colors as a color sequence is deprecated. Use an explicit list instead.\n"
          ],
          "name": "stderr"
        },
        {
          "output_type": "display_data",
          "data": {
            "image/png": "[encoded data removed]",
            "text/plain": [
              "<Figure size 432x288 with 1 Axes>"
            ]
          },
          "metadata": {
            "tags": [],
            "needs_background": "light"
          }
        }
      ]
    }
  ]
}